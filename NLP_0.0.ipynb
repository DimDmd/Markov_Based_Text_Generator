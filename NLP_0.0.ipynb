{
 "cells": [
  {
   "attachments": {
    "image.png": {
     "image/png": "[encoded data removed]"
    }
   },
   "cell_type": "markdown",
   "metadata": {},
   "source": [
    "# Intro\n",
    "\n",
    "A Markov chain is a stochastic model describing a sequence of possible events in which the probability of each event depends only on the state attained in the previous event. \n",
    "\n",
    " ![image.png](attachment:image.png) \n",
    "\n",
    "Markov chains have many applications as statistical models of real-world processes,such as studying cruise control systems in motor vehicles, queues or lines of customers arriving at an airport, exchange rates of currencies, storage systems such as dams, and population growths of certain animal species. Other fields of applications of Markov Models are Physics, Testing, Speech recognition, text generators etc. \n",
    "\n",
    "In this application we will create a simple test generator based on Markov Models. This approach could easily used in Mobile Autocomplete applications for example.  "
   ]
  },
  {
   "cell_type": "markdown",
   "metadata": {},
   "source": [
    "# Data cleaning\n",
    "Firstly we want to strip the selected text from the unwanted characters. "
   ]
  },
  {
   "cell_type": "code",
   "execution_count": 25,
   "metadata": {},
   "outputs": [],
   "source": [
    "import re\n",
    "import numpy as np\n",
    "\n",
    "#Separating all words and punctuation with spaces and removing all double spaces.\n",
    "\n",
    "f = open('C:\\\\anaconda3\\\\texts\\\\source1.txt') # inserting the base text \n",
    "contents = f.read()\n",
    "f.close()\n",
    "contents = re.sub('([.,!?();:])', r' \\1 ', contents)\n",
    "contents = re.sub('\\s{2,}', ' ', contents)\n",
    "\n",
    "\n",
    "    \n",
    "f = open('C:\\\\anaconda3\\\\texts\\\\source1.txt', 'w') # inserting the base text\n",
    "f.write(contents.replace('\"',''))\n",
    "f.close()"
   ]
  },
  {
   "cell_type": "markdown",
   "metadata": {},
   "source": [
    "Now we will initialize the states and text matrices"
   ]
  },
  {
   "cell_type": "code",
   "execution_count": 84,
   "metadata": {},
   "outputs": [
    {
     "name": "stdout",
     "output_type": "stream",
     "text": [
      "317\n"
     ]
    }
   ],
   "source": [
    "text = []\n",
    "states = []\n",
    "\n",
    "with open('C:\\\\anaconda3\\\\texts\\\\source.txt','r') as f:\n",
    "    for line in f:\n",
    "        for word in line.split():\n",
    "            text.append(word)\n",
    "            if word not in states:\n",
    "                states.append(word)\n",
    "                \n",
    "print(np.size(states))\n",
    "#Creating a zeros transition matrix \n",
    "M = [[0]*np.size(states) for _ in range(np.size(states))]\n",
    "\n",
    "print(len(M))"
   ]
  },
  {
   "cell_type": "markdown",
   "metadata": {},
   "source": [
    "## Transition Matrix\n",
    "The core of markov processes is the calculation of transition matrix. In the blocks bellow we firts count the state transitions and the overall probabilistic matrix. "
   ]
  },
  {
   "cell_type": "code",
   "execution_count": 86,
   "metadata": {},
   "outputs": [],
   "source": [
    "#instead of columns we fill rows with the successfull results(+1)\n",
    "for i in range(len(states)):\n",
    "    for j in range(len(text)-1):\n",
    "        if states[i] == text[j]:\n",
    "            temp = text[j + 1]\n",
    "            for k in range(len(states)):\n",
    "                if temp == states[k]:\n",
    "                    M[i][k] += 1              "
   ]
  },
  {
   "cell_type": "markdown",
   "metadata": {},
   "source": [
    "Calculating the propabilistic tranistion matrix"
   ]
  },
  {
   "cell_type": "code",
   "execution_count": 87,
   "metadata": {},
   "outputs": [],
   "source": [
    "#instead of columns the code fills rows with the apropriate probabilities\n",
    "for row in M:\n",
    "        s = sum(row)\n",
    "        if s > 0:\n",
    "            row[:] = [f/s for f in row]\n",
    "\n"
   ]
  },
  {
   "cell_type": "markdown",
   "metadata": {},
   "source": [
    "Finaly we generate our text with the desired lenght. \n",
    "We did not expect the output text to be cohesive "
   ]
  },
  {
   "cell_type": "code",
   "execution_count": 88,
   "metadata": {},
   "outputs": [],
   "source": [
    "\n",
    "def text_generator(first_state,no_of_words): \n",
    "    print(first_state,end = \" \")\n",
    "    for i in range(no_of_words):\n",
    "        counter = 0\n",
    "        j = 0\n",
    "        b=0\n",
    "        for i in range(len(states)):\n",
    "            if first_state == states[i]:\n",
    "                state = i\n",
    "                b = np.random.uniform(0,1,1)\n",
    "        while counter < b :\n",
    "            counter = counter + M[state][j]\n",
    "            j = j + 1 \n",
    "        print(states[j - 1],end = \" \") ,\n",
    "        first_state=states[j - 1]    #the index j-1 is given because of the absence of a do-while loop\n",
    "              \n",
    "            "
   ]
  },
  {
   "cell_type": "code",
   "execution_count": 89,
   "metadata": {
    "scrolled": true
   },
   "outputs": [
    {
     "name": "stdout",
     "output_type": "stream",
     "text": [
      "Should you , In the wind among the rain-shower and read this Song of all the bison , With the forest , For a people , in the Winter , Speak "
     ]
    }
   ],
   "source": [
    "#insert first state\n",
    "first_state = states[0]\n",
    "\n",
    "\n",
    "\n",
    "text_generator(first_state,30)\n",
    "               "
   ]
  },
  {
   "cell_type": "markdown",
   "metadata": {},
   "source": []
  },
  {
   "cell_type": "code",
   "execution_count": 83,
   "metadata": {},
   "outputs": [],
   "source": [
    "\n"
   ]
  },
  {
   "cell_type": "code",
   "execution_count": null,
   "metadata": {},
   "outputs": [],
   "source": []
  },
  {
   "cell_type": "code",
   "execution_count": null,
   "metadata": {},
   "outputs": [],
   "source": []
  }
 ],
 "metadata": {
  "kernelspec": {
   "display_name": "Python 3",
   "language": "python",
   "name": "python3"
  },
  "language_info": {
   "codemirror_mode": {
    "name": "ipython",
    "version": 3
   },
   "file_extension": ".py",
   "mimetype": "text/x-python",
   "name": "python",
   "nbconvert_exporter": "python",
   "pygments_lexer": "ipython3",
   "version": "3.6.8"
  }
 },
 "nbformat": 4,
 "nbformat_minor": 2
}
